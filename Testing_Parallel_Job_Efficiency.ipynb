{
  "nbformat": 4,
  "nbformat_minor": 0,
  "metadata": {
    "colab": {
      "provenance": [],
      "authorship_tag": "ABX9TyNRXUhbA6+1hNEU5iP4QLvY",
      "include_colab_link": true
    },
    "kernelspec": {
      "name": "python3",
      "display_name": "Python 3"
    },
    "language_info": {
      "name": "python"
    }
  },
  "cells": [
    {
      "cell_type": "markdown",
      "metadata": {
        "id": "view-in-github",
        "colab_type": "text"
      },
      "source": [
        "<a href=\"https://colab.research.google.com/github/ievapociute/big-data-analysis-proj/blob/main/Testing_Parallel_Job_Efficiency.ipynb\" target=\"_parent\"><img src=\"https://colab.research.google.com/assets/colab-badge.svg\" alt=\"Open In Colab\"/></a>"
      ]
    },
    {
      "cell_type": "code",
      "source": [
        "#!pip install psutil memory_profiler\n"
      ],
      "metadata": {
        "colab": {
          "base_uri": "https://localhost:8080/"
        },
        "id": "I-36612oDNTi",
        "outputId": "122ee0de-8ace-4bcd-a7fa-8042397dc8cc"
      },
      "execution_count": 11,
      "outputs": [
        {
          "output_type": "stream",
          "name": "stdout",
          "text": [
            "Requirement already satisfied: psutil in /usr/local/lib/python3.10/dist-packages (5.9.5)\n",
            "Collecting memory_profiler\n",
            "  Downloading memory_profiler-0.61.0-py3-none-any.whl (31 kB)\n",
            "Installing collected packages: memory_profiler\n",
            "Successfully installed memory_profiler-0.61.0\n"
          ]
        }
      ]
    },
    {
      "cell_type": "code",
      "source": [
        "import time\n",
        "from multiprocessing import Pool\n",
        "import psutil\n",
        "from memory_profiler import memory_usage"
      ],
      "metadata": {
        "id": "1NjQciZpB33M"
      },
      "execution_count": 12,
      "outputs": []
    },
    {
      "cell_type": "code",
      "source": [
        "def calculate_performance(function):\n",
        "    \"\"\"\n",
        "    Calculates and prints performance metrics:\n",
        "    execution time, peak memory usage during execution, and CPU utilization change.\n",
        "\n",
        "    Parameters:\n",
        "    - function: The function to be profiled.\n",
        "    \"\"\"\n",
        "    start_time = time.time()\n",
        "    peak_memory_before = psutil.Process().memory_info().rss / (1024 * 1024)\n",
        "    cpu_percent_before = psutil.cpu_percent(interval=None)\n",
        "\n",
        "    # Monitor memory usage of the function. Interval measures every 1 second\n",
        "    mem_usage = memory_usage((function, ), interval=0.1, include_children=True)\n",
        "\n",
        "    end_time = time.time()\n",
        "    cpu_percent_after = psutil.cpu_percent(interval=None)\n",
        "\n",
        "    execution_time = end_time - start_time\n",
        "    peak_memory_used = max(mem_usage) - peak_memory_before # Additional memory used during function execution\n",
        "    cpu_percent_change = cpu_percent_after - cpu_percent_before # Change in CPU utilization before and after function execution\n",
        "\n",
        "    print(f\"Execution Time for {function.__name__}: {execution_time:.3f} seconds\")\n",
        "    print(f\"Peak Memory Usage for {function.__name__}: {peak_memory_used:.3f} MiB\")\n",
        "    print(f\"CPU Utilization Change for {function.__name__}: {cpu_percent_change:.2f}% \\n\")\n",
        "\n",
        "    return execution_time"
      ],
      "metadata": {
        "id": "a6zJMxBiKmCj"
      },
      "execution_count": 44,
      "outputs": []
    },
    {
      "cell_type": "code",
      "execution_count": 40,
      "metadata": {
        "id": "lfRFGB3vAXkW"
      },
      "outputs": [],
      "source": [
        "def sum_of_squares(n):\n",
        "    return sum(x*x for x in range(n))\n",
        "\n",
        "def sequential_version():\n",
        "    n = 10**7  # Example workload size\n",
        "    result = sum_of_squares(n)\n",
        "    print(f\"Result (Sequential): {result}\")\n",
        "\n",
        "\n",
        "def sum_of_squares_range(start, end):\n",
        "    return sum(x * x for x in range(start, end))\n",
        "\n",
        "def sum_of_squares_parallel(n, process_count=4):\n",
        "    with Pool(processes=process_count) as pool:\n",
        "        part_size = n // process_count\n",
        "        ranges = [(i * part_size, (i + 1) * part_size) for i in range(process_count)]\n",
        "\n",
        "        # Directly use sum_of_squares_range with pool.starmap to pass multiple arguments\n",
        "        results = pool.starmap(sum_of_squares_range, ranges)\n",
        "        return sum(results)\n",
        "\n",
        "def parallel_version():\n",
        "    n = 10**7  # Example workload size\n",
        "    result = sum_of_squares_parallel(n)\n",
        "    print(f\"Result (Parallel): {result}\")\n"
      ]
    },
    {
      "cell_type": "code",
      "source": [
        "if __name__ == \"__main__\":\n",
        "    \"\"\"\n",
        "    Evaluates and prints the parallel execution's speedup and efficiency.\n",
        "    \"\"\"\n",
        "    parallel_processors = 4\n",
        "    sequential_time = calculate_performance(sequential_version)\n",
        "    parallel_time = calculate_performance(parallel_version)\n",
        "\n",
        "    # Calculate Speedup and Efficiency\n",
        "    speedup = sequential_time / parallel_time\n",
        "    efficiency = speedup / parallel_processors\n",
        "\n",
        "    print(f\"Speedup: {speedup:.3f}\") # 1 = parallel and seq are equal; >1 = parallel version is quicker\n",
        "    print(f\"Efficiency: {efficiency:.3f}\") # 1 = perfect; <1 = diminishing returns of parallelization"
      ],
      "metadata": {
        "colab": {
          "base_uri": "https://localhost:8080/"
        },
        "id": "1O_Ve1-TAbdl",
        "outputId": "b603040f-caa6-4a49-f485-45a1545929de"
      },
      "execution_count": 45,
      "outputs": [
        {
          "output_type": "stream",
          "name": "stdout",
          "text": [
            "Result (Sequential): 333333283333335000000\n",
            "Execution Time for sequential_version: 2.132 seconds\n",
            "Peak Memory Usage for sequential_version: 90.652 MiB\n",
            "CPU Utilization Change for sequential_version: 74.80% \n",
            "\n",
            "Result (Parallel): 333333283333335000000\n",
            "Execution Time for parallel_version: 1.349 seconds\n",
            "Peak Memory Usage for parallel_version: 453.043 MiB\n",
            "CPU Utilization Change for parallel_version: 98.50% \n",
            "\n",
            "Speedup: 1.581\n",
            "Efficiency: 0.395\n"
          ]
        }
      ]
    }
  ]
}