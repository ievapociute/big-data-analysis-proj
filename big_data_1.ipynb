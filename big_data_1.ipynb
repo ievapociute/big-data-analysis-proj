{
 "cells": [
  {
   "cell_type": "code",
   "execution_count": 1,
   "metadata": {},
   "outputs": [],
   "source": [
    "import os\n",
    "import cv2\n",
    "import numpy as np\n",
    "from multiprocessing import Pool\n",
    "from concurrent.futures import ThreadPoolExecutor\n",
    "import time\n",
    "from functools import wraps"
   ]
  },
  {
   "cell_type": "code",
   "execution_count": 10,
   "metadata": {},
   "outputs": [],
   "source": [
    "def timeit(func):\n",
    "    @wraps(func)\n",
    "    def timeit_wrapper(*args, **kwargs):\n",
    "        start_time = time.perf_counter()\n",
    "        result = func(*args, **kwargs)\n",
    "        end_time = time.perf_counter()\n",
    "        total_time = end_time - start_time\n",
    "        print(f'Function {func.__name__} took {total_time:.4f} seconds')\n",
    "        return result\n",
    "    return timeit_wrapper"
   ]
  },
  {
   "cell_type": "code",
   "execution_count": 18,
   "metadata": {},
   "outputs": [],
   "source": [
    "@timeit\n",
    "def bw(image_path, output_dir):\n",
    "    # Read image\n",
    "    image = cv2.imread(image_path)\n",
    "    # Convert to grayscale\n",
    "    gray = cv2.cvtColor(image, cv2.COLOR_BGR2GRAY)\n",
    "    image_name = \"\".join(image_path.split('.')[:-1])\n",
    "    cv2.imwrite(os.path.join(output_dir, f\"{image_name}_{bw}.jpg\"), gray)\n",
    "    return gray\n"
   ]
  },
  {
   "cell_type": "code",
   "execution_count": 19,
   "metadata": {},
   "outputs": [],
   "source": [
    "@timeit\n",
    "def blur(image_path, output_dir):\n",
    "    # Read image\n",
    "    image = cv2.imread(image_path)\n",
    "    # Apply blur\n",
    "    blurred = cv2.GaussianBlur(image, (11, 11), 0)\n",
    "    image_name = \"\".join(image_path.split('.')[:-1])\n",
    "    cv2.imwrite(os.path.join(output_dir, f\"{image_name}_{bw}.jpg\"), blurred)\n",
    "    return blurred"
   ]
  },
  {
   "cell_type": "code",
   "execution_count": 9,
   "metadata": {},
   "outputs": [
    {
     "ename": "NameError",
     "evalue": "name 'timeit' is not defined",
     "output_type": "error",
     "traceback": [
      "\u001b[0;31m---------------------------------------------------------------------------\u001b[0m",
      "\u001b[0;31mNameError\u001b[0m                                 Traceback (most recent call last)",
      "Cell \u001b[0;32mIn[9], line 1\u001b[0m\n\u001b[0;32m----> 1\u001b[0m \u001b[38;5;129m@timeit\u001b[39m\n\u001b[1;32m      2\u001b[0m \u001b[38;5;28;01mdef\u001b[39;00m \u001b[38;5;21mnoisy\u001b[39m(image_path, output_dir):\n\u001b[1;32m      3\u001b[0m     \u001b[38;5;66;03m# Read image\u001b[39;00m\n\u001b[1;32m      4\u001b[0m     image \u001b[38;5;241m=\u001b[39m cv2\u001b[38;5;241m.\u001b[39mimread(image_path)\n\u001b[1;32m      5\u001b[0m     \u001b[38;5;66;03m# Add noise\u001b[39;00m\n",
      "\u001b[0;31mNameError\u001b[0m: name 'timeit' is not defined"
     ]
    }
   ],
   "source": [
    "@timeit\n",
    "def noisy(image_path, output_dir):\n",
    "    # Read image\n",
    "    image = cv2.imread(image_path)\n",
    "    # Add noise\n",
    "    noisy = np.zeros_like(image)\n",
    "    cv2.randn(noisy, 0, 25)\n",
    "    noisy_image = cv2.add(image, noisy)\n",
    "    image_name = \"\".join(image_path.split('.')[:-1])\n",
    "    cv2.imwrite(os.path.join(output_dir, f\"{image_name}_{bw}.jpg\"), noisy_image)\n",
    "    return noisy_image"
   ]
  },
  {
   "cell_type": "code",
   "execution_count": null,
   "metadata": {},
   "outputs": [],
   "source": [
    "# find the threshold value using the grayscale image\n",
    "def find_thresh(grayscale):\n",
    "    hist = cv2.calcHist([grayscale], [0], None, [256], [0, 256])\n",
    "    hist_norm = hist/hist.sum()\n",
    "    black_pixels = 0\n",
    "    threshold = 0\n",
    "    bl_fraction = 0\n",
    "    for i in range(len(hist_norm)):\n",
    "        bl_fraction += hist_norm[i]\n",
    "        black_pixels += hist[i]\n",
    "        if bl_fraction >= 0.5:\n",
    "            threshold = i\n",
    "            break\n",
    "    return threshold, black_pixels[0]\n"
   ]
  },
  {
   "cell_type": "code",
   "execution_count": null,
   "metadata": {},
   "outputs": [],
   "source": [
    "def salt_pepp_noise(image, noisy_pixels):\n",
    "    noisy_image = image.copy()\n",
    "    height, width, _ = noisy_image.shape\n",
    "    for pixel in range(noisy_pixels):\n",
    "        row, col = np.random.randint(0, height), np.random.randint(0, width)\n",
    "        if np.random.rand() < 0.5:\n",
    "            noisy_image[row, col] = [0, 0, 0]\n",
    "        else:\n",
    "            noisy_image[row, col] = [255, 255, 255]\n",
    "    return noisy_image"
   ]
  },
  {
   "cell_type": "code",
   "execution_count": 11,
   "metadata": {},
   "outputs": [],
   "source": [
    "@timeit\n",
    "def transform_image(image_path):\n",
    "    # Read image\n",
    "    image = cv2.imread(image_path)\n",
    "    # Convert to grayscale\n",
    "    gray = cv2.cvtColor(image, cv2.COLOR_BGR2GRAY)\n",
    "    (threshold, black_pixels) = find_thresh(gray)\n",
    "    (thresh, bnw_image) = cv2.threshold(gray, threshold, 255, cv2.THRESH_BINARY)\n",
    "    # Apply blur\n",
    "    blurred = cv2.GaussianBlur(image, (5, 5), 0)\n",
    "    # Add noise\n",
    "    noisy = np.zeros_like(image)\n",
    "    cv2.randn(noisy, 0, 25)\n",
    "    noisy_image = cv2.add(image, noisy)\n",
    "    return gray, blurred, noisy_image"
   ]
  },
  {
   "cell_type": "code",
   "execution_count": 14,
   "metadata": {},
   "outputs": [],
   "source": [
    "def transform_images_parallel(input_dir, output_dir):\n",
    "    image_paths = [os.path.join(input_dir, f) for f in os.listdir(input_dir) if f.endswith('.jpg')]\n",
    "    with Pool(processes=os.cpu_count()) as pool:\n",
    "        transformed_images = pool.map(transform_image, image_paths)\n",
    "        \n",
    "    for i, image_path in enumerate(image_paths):\n",
    "        image_name = os.path.splitext(os.path.basename(image_path))[0]\n",
    "        for i, img in enumerate(transformed_images):\n",
    "            print(type(img))\n",
    "            print(i)\n",
    "            cv2.imwrite(os.path.join(output_dir, f\"{image_name}_{i}.jpg\"), img)"
   ]
  },
  {
   "cell_type": "code",
   "execution_count": 15,
   "metadata": {},
   "outputs": [
    {
     "name": "stdout",
     "output_type": "stream",
     "text": [
      "Function transform_image took 0.0278 secondsFunction transform_image took 0.0295 seconds\n",
      "\n",
      "Function transform_image took 0.0422 seconds\n",
      "Function transform_image took 0.0621 seconds\n",
      "Function transform_image took 0.0400 seconds\n",
      "Function transform_image took 0.0407 seconds\n",
      "Function transform_image took 0.0579 seconds\n",
      "Function transform_image took 0.0350 seconds\n",
      "Function transform_image took 0.0618 secondsFunction transform_image took 0.0392 secondsFunction transform_image took 0.0509 seconds\n",
      "\n",
      "\n",
      "Function transform_image took 0.0519 seconds\n",
      "Function transform_image took 0.0431 seconds\n",
      "Function transform_image took 0.0665 secondsFunction transform_image took 0.0663 secondsFunction transform_image took 0.0578 seconds\n",
      "\n",
      "\n",
      "Function transform_image took 0.0303 secondsFunction transform_image took 0.0260 seconds\n",
      "\n",
      "Function transform_image took 0.0512 secondsFunction transform_image took 0.0608 seconds\n",
      "\n",
      "Function transform_image took 0.0354 seconds\n",
      "Function transform_image took 0.0400 secondsFunction transform_image took 0.0402 seconds\n",
      "\n",
      "Function transform_image took 0.0353 secondsFunction transform_image took 0.0373 seconds\n",
      "\n",
      "Function transform_image took 0.0464 seconds\n",
      "Function transform_image took 0.0450 secondsFunction transform_image took 0.0349 seconds\n",
      "\n",
      "Function transform_image took 0.0532 seconds\n",
      "Function transform_image took 0.0476 seconds\n",
      "Function transform_image took 0.0242 secondsFunction transform_image took 0.0337 seconds\n",
      "\n",
      "Function transform_image took 0.0493 secondsFunction transform_image took 0.0288 seconds\n",
      "Function transform_image took 0.0565 seconds\n",
      "\n",
      "Function transform_image took 0.0512 seconds\n",
      "Function transform_image took 0.0602 seconds\n",
      "Function transform_image took 0.0612 seconds\n",
      "Function transform_image took 0.0499 seconds\n",
      "Function transform_image took 0.0637 seconds\n",
      "Function transform_image took 0.0788 seconds\n",
      "Function transform_image took 0.0322 seconds\n",
      "Function transform_image took 0.0723 seconds\n",
      "Function transform_image took 0.0727 seconds\n",
      "Function transform_image took 0.0745 seconds\n",
      "Function transform_image took 0.0682 secondsFunction transform_image took 0.0612 seconds\n",
      "Function transform_image took 0.0511 seconds\n",
      "\n",
      "Function transform_image took 0.0583 seconds\n",
      "Function transform_image took 0.0453 secondsFunction transform_image took 0.0565 seconds\n",
      "\n",
      "Function transform_image took 0.0656 secondsFunction transform_image took 0.0372 seconds\n",
      "\n",
      "Function transform_image took 0.0417 seconds\n",
      "Function transform_image took 0.0623 secondsFunction transform_image took 0.0482 seconds\n",
      "\n",
      "Function transform_image took 0.0401 seconds\n",
      "Function transform_image took 0.0442 seconds\n",
      "Function transform_image took 0.0795 secondsFunction transform_image took 0.0528 seconds\n",
      "\n",
      "Function transform_image took 0.0481 seconds\n",
      "Function transform_image took 0.0379 seconds\n",
      "Function transform_image took 0.0435 secondsFunction transform_image took 0.0333 seconds\n",
      "\n",
      "Function transform_image took 0.0363 secondsFunction transform_image took 0.0338 seconds\n",
      "\n",
      "Function transform_image took 0.0529 seconds\n",
      "Function transform_image took 0.0266 seconds\n",
      "Function transform_image took 0.0283 seconds\n",
      "Function transform_image took 0.0359 seconds\n",
      "Function transform_image took 0.0316 seconds\n",
      "Function transform_image took 0.0344 seconds\n",
      "<class 'tuple'>\n",
      "0\n"
     ]
    },
    {
     "ename": "error",
     "evalue": "OpenCV(4.9.0) :-1: error: (-5:Bad argument) in function 'imwrite'\n> Overload resolution failed:\n>  - img is not a numerical tuple\n>  - Expected Ptr<cv::UMat> for argument 'img'\n",
     "output_type": "error",
     "traceback": [
      "\u001b[0;31m---------------------------------------------------------------------------\u001b[0m",
      "\u001b[0;31merror\u001b[0m                                     Traceback (most recent call last)",
      "Cell \u001b[0;32mIn[15], line 8\u001b[0m\n\u001b[1;32m      5\u001b[0m \u001b[38;5;28;01mif\u001b[39;00m \u001b[38;5;129;01mnot\u001b[39;00m os\u001b[38;5;241m.\u001b[39mpath\u001b[38;5;241m.\u001b[39mexists(output_dir):\n\u001b[1;32m      6\u001b[0m     os\u001b[38;5;241m.\u001b[39mmakedirs(output_dir)\n\u001b[0;32m----> 8\u001b[0m \u001b[43mtransform_images_parallel\u001b[49m\u001b[43m(\u001b[49m\u001b[43minput_dir\u001b[49m\u001b[43m,\u001b[49m\u001b[43m \u001b[49m\u001b[43moutput_dir\u001b[49m\u001b[43m)\u001b[49m\n",
      "Cell \u001b[0;32mIn[14], line 11\u001b[0m, in \u001b[0;36mtransform_images_parallel\u001b[0;34m(input_dir, output_dir)\u001b[0m\n\u001b[1;32m      9\u001b[0m \u001b[38;5;28mprint\u001b[39m(\u001b[38;5;28mtype\u001b[39m(img))\n\u001b[1;32m     10\u001b[0m \u001b[38;5;28mprint\u001b[39m(i)\n\u001b[0;32m---> 11\u001b[0m \u001b[43mcv2\u001b[49m\u001b[38;5;241;43m.\u001b[39;49m\u001b[43mimwrite\u001b[49m\u001b[43m(\u001b[49m\u001b[43mos\u001b[49m\u001b[38;5;241;43m.\u001b[39;49m\u001b[43mpath\u001b[49m\u001b[38;5;241;43m.\u001b[39;49m\u001b[43mjoin\u001b[49m\u001b[43m(\u001b[49m\u001b[43moutput_dir\u001b[49m\u001b[43m,\u001b[49m\u001b[43m \u001b[49m\u001b[38;5;124;43mf\u001b[39;49m\u001b[38;5;124;43m\"\u001b[39;49m\u001b[38;5;132;43;01m{\u001b[39;49;00m\u001b[43mimage_name\u001b[49m\u001b[38;5;132;43;01m}\u001b[39;49;00m\u001b[38;5;124;43m_\u001b[39;49m\u001b[38;5;132;43;01m{\u001b[39;49;00m\u001b[43mi\u001b[49m\u001b[38;5;132;43;01m}\u001b[39;49;00m\u001b[38;5;124;43m.jpg\u001b[39;49m\u001b[38;5;124;43m\"\u001b[39;49m\u001b[43m)\u001b[49m\u001b[43m,\u001b[49m\u001b[43m \u001b[49m\u001b[43mimg\u001b[49m\u001b[43m)\u001b[49m\n",
      "\u001b[0;31merror\u001b[0m: OpenCV(4.9.0) :-1: error: (-5:Bad argument) in function 'imwrite'\n> Overload resolution failed:\n>  - img is not a numerical tuple\n>  - Expected Ptr<cv::UMat> for argument 'img'\n"
     ]
    }
   ],
   "source": [
    "if __name__ == \"__main__\":\n",
    "    input_dir = \"specify\"\n",
    "    output_dir = \"specify\"\n",
    "\n",
    "    if not os.path.exists(output_dir):\n",
    "        os.makedirs(output_dir)\n",
    "\n",
    "    transform_images_parallel(input_dir, output_dir)\n"
   ]
  }
 ],
 "metadata": {
  "kernelspec": {
   "display_name": "Python 3",
   "language": "python",
   "name": "python3"
  },
  "language_info": {
   "codemirror_mode": {
    "name": "ipython",
    "version": 3
   },
   "file_extension": ".py",
   "mimetype": "text/x-python",
   "name": "python",
   "nbconvert_exporter": "python",
   "pygments_lexer": "ipython3",
   "version": "3.10.12"
  },
  "orig_nbformat": 4
 },
 "nbformat": 4,
 "nbformat_minor": 2
}
