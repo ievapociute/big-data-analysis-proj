{
  "nbformat": 4,
  "nbformat_minor": 0,
  "metadata": {
    "colab": {
      "provenance": [],
      "authorship_tag": "ABX9TyNcqJRld6L2Z++ZE986PjVr"
    },
    "kernelspec": {
      "name": "python3",
      "display_name": "Python 3"
    },
    "language_info": {
      "name": "python"
    }
  },
  "cells": [
    {
      "cell_type": "code",
      "execution_count": 3,
      "metadata": {
        "colab": {
          "base_uri": "https://localhost:8080/"
        },
        "id": "JMxJClxRP5Va",
        "outputId": "64f82040-088b-442e-ff0b-900321d0f805"
      },
      "outputs": [
        {
          "output_type": "execute_result",
          "data": {
            "text/plain": [
              "True"
            ]
          },
          "metadata": {},
          "execution_count": 3
        }
      ],
      "source": [
        "import cv2\n",
        "import numpy as np\n",
        "\n",
        "def find_thresh(grayscale):\n",
        "    \"\"\"\n",
        "    Finds the threshold value for binarization of a grayscale image.\n",
        "\n",
        "    Args:\n",
        "        grayscale (numpy.ndarray): Grayscale image represented as a numpy array.\n",
        "\n",
        "    Returns:\n",
        "        tuple: A tuple containing the threshold value and the number of black pixels.\n",
        "    \"\"\"\n",
        "    hist = cv2.calcHist([grayscale], [0], None, [256], [0, 256])\n",
        "    hist_norm = hist/hist.sum()\n",
        "    black_pixels = 0\n",
        "    threshold = 0\n",
        "    bl_fraction = 0\n",
        "    for i in range(len(hist_norm)):\n",
        "        bl_fraction += hist_norm[i]\n",
        "        black_pixels += hist[i]\n",
        "        if bl_fraction >= 0.5:\n",
        "            threshold = i\n",
        "            break\n",
        "    return threshold, black_pixels[0]\n",
        "\n",
        "def salt_pepp_noise(image, noisy_pixels):\n",
        "    \"\"\"\n",
        "    Adds salt and pepper noise to an image.\n",
        "\n",
        "    Args:\n",
        "        image (numpy.ndarray): Input image represented as a numpy array.\n",
        "        noisy_pixels (int): Number of noisy pixels to be added.\n",
        "\n",
        "    Returns:\n",
        "        numpy.ndarray: Noisy image represented as a numpy array.\n",
        "    \"\"\"\n",
        "    noisy_image = image.copy()\n",
        "    height, width, _ = noisy_image.shape\n",
        "    for pixel in range(noisy_pixels):\n",
        "        row, col = np.random.randint(0, height), np.random.randint(0, width)\n",
        "        if np.random.rand() < 0.5:\n",
        "            noisy_image[row, col] = [0, 0, 0]\n",
        "        else:\n",
        "            noisy_image[row, col] = [255, 255, 255]\n",
        "    return noisy_image\n",
        "\n",
        "# Load image\n",
        "path = '/667626_18933d713e.jpg'\n",
        "image = cv2.imread(path)\n",
        "\n",
        "# Convert to grayscale\n",
        "gray_image = cv2.cvtColor(image, cv2.COLOR_BGR2GRAY)\n",
        "\n",
        "# Find threshold for binarization\n",
        "(threshold, black_pixels) = find_thresh(gray_image)\n",
        "\n",
        "# Binarize image using the threshold\n",
        "(thresh, bnw_image) = cv2.threshold(gray_image, threshold, 255, cv2.THRESH_BINARY)\n",
        "\n",
        "# Apply Gaussian blur to the image\n",
        "gaus_blur = cv2.GaussianBlur(image, (5,5), 0)\n",
        "\n",
        "# Add salt and pepper noise to the image\n",
        "noisy_image = salt_pepp_noise(image, int(0.1 * black_pixels))\n",
        "\n",
        "# Export images\n",
        "name = '.'.join(path.split('.')[:-1])\n",
        "cv2.imwrite(f'{name}_bnw.jpg', bnw_image)\n",
        "cv2.imwrite(f'{name}_blur.jpg', gaus_blur)\n",
        "cv2.imwrite(f'{name}_noise.jpg', noisy_image)\n",
        "\n",
        "\n"
      ]
    }
  ]
}